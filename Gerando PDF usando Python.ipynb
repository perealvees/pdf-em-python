{
 "cells": [
  {
   "cell_type": "code",
   "execution_count": 1,
   "id": "a3b1ad6f-01fb-466b-987a-3e09ec8aaf7f",
   "metadata": {},
   "outputs": [
    {
     "name": "stdout",
     "output_type": "stream",
     "text": [
      "Hello\n"
     ]
    }
   ],
   "source": [
    "print('Hello')"
   ]
  },
  {
   "cell_type": "code",
   "execution_count": 2,
   "id": "d01a6cd9-fec4-4e07-a12c-36ad7dba0a7e",
   "metadata": {},
   "outputs": [
    {
     "name": "stdout",
     "output_type": "stream",
     "text": [
      "Semana de aprenziado EmpowerPython\n"
     ]
    }
   ],
   "source": [
    "print('Semana de aprenziado EmpowerPython')"
   ]
  },
  {
   "cell_type": "code",
   "execution_count": 3,
   "id": "9fa932ac-b29f-4fcd-b8d9-4dd3022bce6e",
   "metadata": {},
   "outputs": [
    {
     "name": "stdout",
     "output_type": "stream",
     "text": [
      "vamos aprender a gerar o nosso primeiro pdf em Python\n"
     ]
    }
   ],
   "source": [
    "print('vamos aprender a gerar o nosso primeiro pdf em Python')"
   ]
  },
  {
   "cell_type": "code",
   "execution_count": 4,
   "id": "aa58c25c-eaf4-4217-82ff-0cc360de51de",
   "metadata": {},
   "outputs": [],
   "source": [
    "#ENTRADA E SAIDA DE DADOS"
   ]
  },
  {
   "cell_type": "code",
   "execution_count": 5,
   "id": "e54c7750-1de2-41fd-94e0-10f50889bdf8",
   "metadata": {},
   "outputs": [
    {
     "name": "stdin",
     "output_type": "stream",
     "text": [
      "Qual o seu nome?  Priscilla\n"
     ]
    }
   ],
   "source": [
    "nome = input('Qual o seu nome? ')"
   ]
  },
  {
   "cell_type": "code",
   "execution_count": 6,
   "id": "4425af99-3207-4bf0-a5e5-e6956fe31062",
   "metadata": {},
   "outputs": [
    {
     "name": "stdin",
     "output_type": "stream",
     "text": [
      "Qual linguagem você esta aprendendo?  Pyhton\n"
     ]
    }
   ],
   "source": [
    "ling = input('Qual linguagem você esta aprendendo? ')"
   ]
  },
  {
   "cell_type": "code",
   "execution_count": 9,
   "id": "3aeabc0d-f1c2-43a5-8370-ac6e5a4ac80c",
   "metadata": {},
   "outputs": [
    {
     "name": "stdout",
     "output_type": "stream",
     "text": [
      "Meu nome é Priscilla e estou aprendendo Pyhton!\n"
     ]
    }
   ],
   "source": [
    "print(f'Meu nome é {nome} e estou aprendendo {ling}!')"
   ]
  },
  {
   "cell_type": "code",
   "execution_count": 18,
   "id": "fd180f4f-8a8a-4dec-8b04-64fe9f90e99e",
   "metadata": {},
   "outputs": [
    {
     "name": "stdin",
     "output_type": "stream",
     "text": [
      "Digite a descição do seu projeto:  Pyhton\n",
      "Quantas horas por dia, você vai precisar para executar?  6\n",
      "Qual é o valor da sua hora trabalhada?  30\n",
      "Digite o prazo de entrega:  5 dias\n"
     ]
    }
   ],
   "source": [
    "projeto = input('Digite a descição do seu projeto: ')\n",
    "horas_prevista = input('Quantas horas por dia, você vai precisar para executar? ')\n",
    "valor_hora = input('Qual é o valor da sua hora trabalhada? ')\n",
    "prazo_em_dias = input('Digite o prazo de entrega: ')"
   ]
  },
  {
   "cell_type": "markdown",
   "id": "effd15c2-8ee5-456d-9f2b-2c5a78ccacd2",
   "metadata": {},
   "source": [
    "## Proposta de Orçamento:"
   ]
  },
  {
   "cell_type": "code",
   "execution_count": null,
   "id": "a441d845-b387-4852-acd8-71c4142dc984",
   "metadata": {},
   "outputs": [],
   "source": [
    "orçamento = valor_hora * horas_prevista"
   ]
  },
  {
   "cell_type": "code",
   "execution_count": null,
   "id": "5aed7208-bdca-4cde-b393-4ff5337f323f",
   "metadata": {},
   "outputs": [],
   "source": []
  },
  {
   "cell_type": "code",
   "execution_count": null,
   "id": "24e4f08a-4eb3-419b-b2a1-7250130696d6",
   "metadata": {},
   "outputs": [],
   "source": []
  },
  {
   "cell_type": "code",
   "execution_count": null,
   "id": "38b3178d-c1ad-4da6-8670-4e1df9e29613",
   "metadata": {},
   "outputs": [],
   "source": []
  },
  {
   "cell_type": "code",
   "execution_count": null,
   "id": "239debbe-d043-44a3-b689-80084a167b4f",
   "metadata": {},
   "outputs": [],
   "source": []
  }
 ],
 "metadata": {
  "kernelspec": {
   "display_name": "Python 3 (ipykernel)",
   "language": "python",
   "name": "python3"
  },
  "language_info": {
   "codemirror_mode": {
    "name": "ipython",
    "version": 3
   },
   "file_extension": ".py",
   "mimetype": "text/x-python",
   "name": "python",
   "nbconvert_exporter": "python",
   "pygments_lexer": "ipython3",
   "version": "3.12.2"
  }
 },
 "nbformat": 4,
 "nbformat_minor": 5
}
