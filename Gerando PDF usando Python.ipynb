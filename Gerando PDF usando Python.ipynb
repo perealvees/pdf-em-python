{
 "cells": [
  {
   "cell_type": "code",
   "execution_count": 1,
   "id": "a3b1ad6f-01fb-466b-987a-3e09ec8aaf7f",
   "metadata": {},
   "outputs": [
    {
     "name": "stdout",
     "output_type": "stream",
     "text": [
      "Hello\n"
     ]
    }
   ],
   "source": [
    "print('Hello')"
   ]
  },
  {
   "cell_type": "code",
   "execution_count": 2,
   "id": "d01a6cd9-fec4-4e07-a12c-36ad7dba0a7e",
   "metadata": {},
   "outputs": [
    {
     "name": "stdout",
     "output_type": "stream",
     "text": [
      "Semana de aprenziado EmpowerPython\n"
     ]
    }
   ],
   "source": [
    "print('Semana de aprenziado EmpowerPython')"
   ]
  },
  {
   "cell_type": "code",
   "execution_count": 3,
   "id": "9fa932ac-b29f-4fcd-b8d9-4dd3022bce6e",
   "metadata": {},
   "outputs": [
    {
     "name": "stdout",
     "output_type": "stream",
     "text": [
      "vamos aprender a gerar o nosso primeiro pdf em Python\n"
     ]
    }
   ],
   "source": [
    "print('vamos aprender a gerar o nosso primeiro pdf em Python')"
   ]
  },
  {
   "cell_type": "markdown",
   "id": "5690b11a-7e10-4406-85c2-9e7a07613b15",
   "metadata": {},
   "source": [
    "##ENTRADA E SAIDA DE DADOS"
   ]
  },
  {
   "cell_type": "code",
   "execution_count": 5,
   "id": "e54c7750-1de2-41fd-94e0-10f50889bdf8",
   "metadata": {},
   "outputs": [
    {
     "name": "stdin",
     "output_type": "stream",
     "text": [
      "Qual o seu nome?  Priscilla\n"
     ]
    }
   ],
   "source": [
    "nome = input('Qual o seu nome? ')"
   ]
  },
  {
   "cell_type": "code",
   "execution_count": 6,
   "id": "4425af99-3207-4bf0-a5e5-e6956fe31062",
   "metadata": {},
   "outputs": [
    {
     "name": "stdin",
     "output_type": "stream",
     "text": [
      "Qual linguagem você esta aprendendo?  Pyhton\n"
     ]
    }
   ],
   "source": [
    "ling = input('Qual linguagem você esta aprendendo? ')"
   ]
  },
  {
   "cell_type": "code",
   "execution_count": 9,
   "id": "3aeabc0d-f1c2-43a5-8370-ac6e5a4ac80c",
   "metadata": {},
   "outputs": [
    {
     "name": "stdout",
     "output_type": "stream",
     "text": [
      "Meu nome é Priscilla e estou aprendendo Pyhton!\n"
     ]
    }
   ],
   "source": [
    "print(f'Meu nome é {nome} e estou aprendendo {ling}!')"
   ]
  },
  {
   "cell_type": "code",
   "execution_count": 2,
   "id": "fd180f4f-8a8a-4dec-8b04-64fe9f90e99e",
   "metadata": {},
   "outputs": [
    {
     "name": "stdin",
     "output_type": "stream",
     "text": [
      "Digite a descição do seu projeto:  python\n",
      "Quantas horas por dia, você vai precisar para executar?  5\n",
      "Qual é o valor da sua hora trabalhada?  100\n",
      "Digite o prazo de entrega:  30\n"
     ]
    }
   ],
   "source": [
    "projeto = input('Digite a descição do seu projeto: ')\n",
    "horas_previstas = input('Quantas horas por dia, você vai precisar para executar? ')\n",
    "valor_hora = input('Qual é o valor da sua hora trabalhada? ')\n",
    "prazo= input('Digite o prazo em dias de entrega: ')\n"
   ]
  },
  {
   "cell_type": "code",
   "execution_count": 5,
   "id": "00131a3c-8371-4955-bef7-800749fd82e3",
   "metadata": {},
   "outputs": [
    {
     "name": "stdout",
     "output_type": "stream",
     "text": [
      "30\n"
     ]
    }
   ],
   "source": [
    "print(prazo)"
   ]
  },
  {
   "cell_type": "markdown",
   "id": "effd15c2-8ee5-456d-9f2b-2c5a78ccacd2",
   "metadata": {},
   "source": [
    "## Proposta de Orçamento:"
   ]
  },
  {
   "cell_type": "code",
   "execution_count": 15,
   "id": "0409db33-bbd7-4fa5-8910-6b8cb3f780d4",
   "metadata": {},
   "outputs": [
    {
     "data": {
      "text/plain": [
       "500"
      ]
     },
     "execution_count": 15,
     "metadata": {},
     "output_type": "execute_result"
    }
   ],
   "source": [
    "valor_total = int(valor_hora) * int(horas_previstas)"
   ]
  },
  {
   "cell_type": "code",
   "execution_count": 18,
   "id": "92fc20ff-2a1b-47b7-bd84-4180eb37ab99",
   "metadata": {},
   "outputs": [
    {
     "ename": "NameError",
     "evalue": "name 'valor_total' is not defined",
     "output_type": "error",
     "traceback": [
      "\u001b[1;31m---------------------------------------------------------------------------\u001b[0m",
      "\u001b[1;31mNameError\u001b[0m                                 Traceback (most recent call last)",
      "Cell \u001b[1;32mIn[18], line 1\u001b[0m\n\u001b[1;32m----> 1\u001b[0m valor_total\n",
      "\u001b[1;31mNameError\u001b[0m: name 'valor_total' is not defined"
     ]
    }
   ],
   "source": [
    "valor_total"
   ]
  },
  {
   "cell_type": "markdown",
   "id": "e7a46a4b-a6c8-4c97-9004-90407ef468ee",
   "metadata": {},
   "source": [
    "## Gerando PDF"
   ]
  },
  {
   "cell_type": "code",
   "execution_count": 6,
   "id": "87861ed9-f4de-4ed3-99fd-a87bc2704f8b",
   "metadata": {},
   "outputs": [
    {
     "name": "stdout",
     "output_type": "stream",
     "text": [
      "Collecting fpdf\n",
      "  Using cached fpdf-1.7.2.tar.gz (39 kB)\n",
      "  Preparing metadata (setup.py): started\n",
      "  Preparing metadata (setup.py): finished with status 'done'\n",
      "Building wheels for collected packages: fpdf\n",
      "  Building wheel for fpdf (setup.py): started\n",
      "  Building wheel for fpdf (setup.py): finished with status 'done'\n",
      "  Created wheel for fpdf: filename=fpdf-1.7.2-py2.py3-none-any.whl size=40713 sha256=e34c8b83e78eea9c2aa9973953a2b120a83aa0a3b0483dd1669f571984a2f042\n",
      "  Stored in directory: c:\\users\\user\\appdata\\local\\pip\\cache\\wheels\\65\\4f\\66\\bbda9866da446a72e206d6484cd97381cbc7859a7068541c36\n",
      "Successfully built fpdf\n",
      "Installing collected packages: fpdf\n",
      "Successfully installed fpdf-1.7.2\n"
     ]
    }
   ],
   "source": [
    "!pip install fpdf"
   ]
  },
  {
   "cell_type": "code",
   "execution_count": 8,
   "id": "536e4241-014f-43ab-befd-3049a024fc68",
   "metadata": {},
   "outputs": [],
   "source": [
    "from fpdf import FPDF"
   ]
  },
  {
   "cell_type": "code",
   "execution_count": 41,
   "id": "c6156158-0b9f-4a33-a7c4-d88f47c31199",
   "metadata": {},
   "outputs": [],
   "source": [
    "pdf = FPDF()\n",
    "\n",
    "pdf.add_page()\n",
    "pdf.set_font(\"Arial\")\n",
    "\n",
    "pdf.text(115, 145, projeto)\n",
    "pdf.text(115, 160, horas_previstas)\n",
    "pdf.text(115, 175, valor_hora)\n",
    "pdf.text(115, 190, prazo)\n",
    "pdf.text(115, 205, srt(valor_total))\n",
    "\n",
    "\n",
    "pdf.output(\"Orçamento.pdf\")"
   ]
  },
  {
   "cell_type": "code",
   "execution_count": null,
   "id": "a01575cb-283f-4e45-8b13-1dd48e2b18dd",
   "metadata": {},
   "outputs": [],
   "source": []
  },
  {
   "cell_type": "code",
   "execution_count": null,
   "id": "95a1b078-9cc0-4ba2-b1ae-0ebb2e402515",
   "metadata": {},
   "outputs": [],
   "source": []
  },
  {
   "cell_type": "code",
   "execution_count": null,
   "id": "d662ed73-ac4a-4692-a683-c177cc836ff7",
   "metadata": {},
   "outputs": [],
   "source": []
  },
  {
   "cell_type": "code",
   "execution_count": null,
   "id": "615ac935-05a3-48cc-8022-e63fa4717afa",
   "metadata": {},
   "outputs": [],
   "source": []
  },
  {
   "cell_type": "code",
   "execution_count": null,
   "id": "ee98ae3c-e275-4e67-b4b0-b2c3ae295313",
   "metadata": {},
   "outputs": [],
   "source": []
  }
 ],
 "metadata": {
  "kernelspec": {
   "display_name": "Python 3 (ipykernel)",
   "language": "python",
   "name": "python3"
  },
  "language_info": {
   "codemirror_mode": {
    "name": "ipython",
    "version": 3
   },
   "file_extension": ".py",
   "mimetype": "text/x-python",
   "name": "python",
   "nbconvert_exporter": "python",
   "pygments_lexer": "ipython3",
   "version": "3.11.7"
  }
 },
 "nbformat": 4,
 "nbformat_minor": 5
}
