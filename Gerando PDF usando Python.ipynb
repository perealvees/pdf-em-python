{
 "cells": [
  {
   "cell_type": "code",
   "execution_count": 1,
   "id": "a3b1ad6f-01fb-466b-987a-3e09ec8aaf7f",
   "metadata": {},
   "outputs": [
    {
     "name": "stdout",
     "output_type": "stream",
     "text": [
      "Hello\n"
     ]
    }
   ],
   "source": [
    "print('Hello')"
   ]
  },
  {
   "cell_type": "code",
   "execution_count": 2,
   "id": "d01a6cd9-fec4-4e07-a12c-36ad7dba0a7e",
   "metadata": {},
   "outputs": [
    {
     "name": "stdout",
     "output_type": "stream",
     "text": [
      "Semana de aprenziado EmpowerPython\n"
     ]
    }
   ],
   "source": [
    "print('Semana de aprenziado EmpowerPython')"
   ]
  },
  {
   "cell_type": "code",
   "execution_count": 3,
   "id": "9fa932ac-b29f-4fcd-b8d9-4dd3022bce6e",
   "metadata": {},
   "outputs": [
    {
     "name": "stdout",
     "output_type": "stream",
     "text": [
      "vamos aprender a gerar o nosso primeiro pdf em Python\n"
     ]
    }
   ],
   "source": [
    "print('vamos aprender a gerar o nosso primeiro pdf em Python')"
   ]
  },
  {
   "cell_type": "code",
   "execution_count": 4,
   "id": "aa58c25c-eaf4-4217-82ff-0cc360de51de",
   "metadata": {},
   "outputs": [],
   "source": [
    "#ENTRADA E SAIDA DE DADOS"
   ]
  },
  {
   "cell_type": "code",
   "execution_count": 5,
   "id": "e54c7750-1de2-41fd-94e0-10f50889bdf8",
   "metadata": {},
   "outputs": [
    {
     "name": "stdin",
     "output_type": "stream",
     "text": [
      "Qual o seu nome?  Priscilla\n"
     ]
    }
   ],
   "source": [
    "nome = input('Qual o seu nome? ')"
   ]
  },
  {
   "cell_type": "code",
   "execution_count": 6,
   "id": "4425af99-3207-4bf0-a5e5-e6956fe31062",
   "metadata": {},
   "outputs": [
    {
     "name": "stdin",
     "output_type": "stream",
     "text": [
      "Qual linguagem você esta aprendendo?  Pyhton\n"
     ]
    }
   ],
   "source": [
    "ling = input('Qual linguagem você esta aprendendo? ')"
   ]
  },
  {
   "cell_type": "code",
   "execution_count": 9,
   "id": "3aeabc0d-f1c2-43a5-8370-ac6e5a4ac80c",
   "metadata": {},
   "outputs": [
    {
     "name": "stdout",
     "output_type": "stream",
     "text": [
      "Meu nome é Priscilla e estou aprendendo Pyhton!\n"
     ]
    }
   ],
   "source": [
    "print(f'Meu nome é {nome} e estou aprendendo {ling}!')"
   ]
  },
  {
   "cell_type": "code",
   "execution_count": 35,
   "id": "fd180f4f-8a8a-4dec-8b04-64fe9f90e99e",
   "metadata": {},
   "outputs": [
    {
     "name": "stdin",
     "output_type": "stream",
     "text": [
      "Quantas horas por dia, você vai precisar para executar?  4\n",
      "Qual é o valor da sua hora trabalhada?  9\n",
      "Digite o prazo de entrega:  30\n"
     ]
    }
   ],
   "source": [
    "projeto = ('Digite a descição do seu projeto: ')\n",
    "horas_prevista = float(input('Quantas horas por dia, você vai precisar para executar? '))\n",
    "valor_hora = float(input('Qual é o valor da sua hora trabalhada? '))\n",
    "prazo_em_dias = int(input('Digite o prazo de entrega: '))"
   ]
  },
  {
   "cell_type": "markdown",
   "id": "effd15c2-8ee5-456d-9f2b-2c5a78ccacd2",
   "metadata": {},
   "source": [
    "## Proposta de Orçamento:"
   ]
  },
  {
   "cell_type": "code",
   "execution_count": 36,
   "id": "742f2bd1-d0c4-4b25-b005-c9ea35ac2728",
   "metadata": {},
   "outputs": [],
   "source": [
    "valor_total = valor_hora * horas_prevista"
   ]
  },
  {
   "cell_type": "code",
   "execution_count": null,
   "id": "214807db-f1cd-4692-8e99-8843225927fb",
   "metadata": {},
   "outputs": [],
   "source": []
  },
  {
   "cell_type": "markdown",
   "id": "e7a46a4b-a6c8-4c97-9004-90407ef468ee",
   "metadata": {},
   "source": [
    "## Gerando PDF"
   ]
  },
  {
   "cell_type": "code",
   "execution_count": 38,
   "id": "87861ed9-f4de-4ed3-99fd-a87bc2704f8b",
   "metadata": {},
   "outputs": [
    {
     "name": "stdout",
     "output_type": "stream",
     "text": [
      "Requirement already satisfied: fpdf in c:\\users\\user\\appdata\\local\\programs\\python\\python312\\lib\\site-packages (1.7.2)\n"
     ]
    }
   ],
   "source": [
    "!pip install fpdf"
   ]
  },
  {
   "cell_type": "code",
   "execution_count": 39,
   "id": "536e4241-014f-43ab-befd-3049a024fc68",
   "metadata": {},
   "outputs": [],
   "source": [
    "from fpdf import FPDF"
   ]
  },
  {
   "cell_type": "code",
   "execution_count": 41,
   "id": "c6156158-0b9f-4a33-a7c4-d88f47c31199",
   "metadata": {},
   "outputs": [],
   "source": [
    "pdf = FPDF()\n",
    "\n",
    "pdf.add_page()\n",
    "pdf.set_font(\"Arial\")\n",
    "\n",
    "pdf.output(\"Orçamento.pdf\")"
   ]
  },
  {
   "cell_type": "code",
   "execution_count": null,
   "id": "a01575cb-283f-4e45-8b13-1dd48e2b18dd",
   "metadata": {},
   "outputs": [],
   "source": []
  },
  {
   "cell_type": "code",
   "execution_count": null,
   "id": "95a1b078-9cc0-4ba2-b1ae-0ebb2e402515",
   "metadata": {},
   "outputs": [],
   "source": []
  },
  {
   "cell_type": "code",
   "execution_count": null,
   "id": "d662ed73-ac4a-4692-a683-c177cc836ff7",
   "metadata": {},
   "outputs": [],
   "source": []
  },
  {
   "cell_type": "code",
   "execution_count": null,
   "id": "615ac935-05a3-48cc-8022-e63fa4717afa",
   "metadata": {},
   "outputs": [],
   "source": []
  },
  {
   "cell_type": "code",
   "execution_count": null,
   "id": "ee98ae3c-e275-4e67-b4b0-b2c3ae295313",
   "metadata": {},
   "outputs": [],
   "source": []
  }
 ],
 "metadata": {
  "kernelspec": {
   "display_name": "Python 3 (ipykernel)",
   "language": "python",
   "name": "python3"
  },
  "language_info": {
   "codemirror_mode": {
    "name": "ipython",
    "version": 3
   },
   "file_extension": ".py",
   "mimetype": "text/x-python",
   "name": "python",
   "nbconvert_exporter": "python",
   "pygments_lexer": "ipython3",
   "version": "3.12.2"
  }
 },
 "nbformat": 4,
 "nbformat_minor": 5
}
