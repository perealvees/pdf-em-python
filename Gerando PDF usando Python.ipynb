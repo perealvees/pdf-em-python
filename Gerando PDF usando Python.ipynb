{
 "cells": [
  {
   "cell_type": "code",
   "execution_count": 1,
   "id": "a3b1ad6f-01fb-466b-987a-3e09ec8aaf7f",
   "metadata": {},
   "outputs": [
    {
     "name": "stdout",
     "output_type": "stream",
     "text": [
      "Hello\n"
     ]
    }
   ],
   "source": [
    "print('Hello')"
   ]
  },
  {
   "cell_type": "code",
   "execution_count": 2,
   "id": "d01a6cd9-fec4-4e07-a12c-36ad7dba0a7e",
   "metadata": {},
   "outputs": [
    {
     "name": "stdout",
     "output_type": "stream",
     "text": [
      "Semana de aprenziado EmpowerPython\n"
     ]
    }
   ],
   "source": [
    "print('Semana de aprenziado EmpowerPython')"
   ]
  },
  {
   "cell_type": "code",
   "execution_count": 3,
   "id": "9fa932ac-b29f-4fcd-b8d9-4dd3022bce6e",
   "metadata": {},
   "outputs": [
    {
     "name": "stdout",
     "output_type": "stream",
     "text": [
      "vamos aprender a gerar o nosso primeiro pdf em Python\n"
     ]
    }
   ],
   "source": [
    "print('vamos aprender a gerar o nosso primeiro pdf em Python')"
   ]
  },
  {
   "cell_type": "code",
   "execution_count": 4,
   "id": "aa58c25c-eaf4-4217-82ff-0cc360de51de",
   "metadata": {},
   "outputs": [],
   "source": [
    "#ENTRADA E SAIDA DE DADOS"
   ]
  },
  {
   "cell_type": "code",
   "execution_count": 5,
   "id": "e54c7750-1de2-41fd-94e0-10f50889bdf8",
   "metadata": {},
   "outputs": [
    {
     "name": "stdin",
     "output_type": "stream",
     "text": [
      "Qual o seu nome?  Priscilla\n"
     ]
    }
   ],
   "source": [
    "nome = input('Qual o seu nome? ')"
   ]
  },
  {
   "cell_type": "code",
   "execution_count": 6,
   "id": "4425af99-3207-4bf0-a5e5-e6956fe31062",
   "metadata": {},
   "outputs": [
    {
     "name": "stdin",
     "output_type": "stream",
     "text": [
      "Qual linguagem você esta aprendendo?  Pyhton\n"
     ]
    }
   ],
   "source": [
    "ling = input('Qual linguagem você esta aprendendo? ')"
   ]
  },
  {
   "cell_type": "code",
   "execution_count": 9,
   "id": "3aeabc0d-f1c2-43a5-8370-ac6e5a4ac80c",
   "metadata": {},
   "outputs": [
    {
     "name": "stdout",
     "output_type": "stream",
     "text": [
      "Meu nome é Priscilla e estou aprendendo Pyhton!\n"
     ]
    }
   ],
   "source": [
    "print(f'Meu nome é {nome} e estou aprendendo {ling}!')"
   ]
  },
  {
   "cell_type": "code",
   "execution_count": 18,
   "id": "fd180f4f-8a8a-4dec-8b04-64fe9f90e99e",
   "metadata": {},
   "outputs": [
    {
     "name": "stdin",
     "output_type": "stream",
     "text": [
      "Digite a descição do seu projeto:  Pyhton\n",
      "Quantas horas por dia, você vai precisar para executar?  6\n",
      "Qual é o valor da sua hora trabalhada?  30\n",
      "Digite o prazo de entrega:  5 dias\n"
     ]
    }
   ],
   "source": [
    "projeto = input('Digite a descição do seu projeto: ')\n",
    "horas_prevista = float(input('Quantas horas por dia, você vai precisar para executar? '))\n",
    "valor_hora = float(input('Qual é o valor da sua hora trabalhada? '))\n",
    "prazo_em_dias = int(input('Digite o prazo de entrega: '))"
   ]
  },
  {
   "cell_type": "markdown",
   "id": "effd15c2-8ee5-456d-9f2b-2c5a78ccacd2",
   "metadata": {},
   "source": [
    "## Proposta de Orçamento:"
   ]
  },
  {
   "cell_type": "code",
   "execution_count": null,
   "id": "742f2bd1-d0c4-4b25-b005-c9ea35ac2728",
   "metadata": {},
   "outputs": [],
   "source": [
    "valor_total = valor_hora * horas_prevista"
   ]
  },
  {
   "cell_type": "code",
   "execution_count": 34,
   "id": "18d956c2-4510-482d-9943-6fd4dab303d1",
   "metadata": {},
   "outputs": [
    {
     "ename": "NameError",
     "evalue": "name 'valor_total' is not defined",
     "output_type": "error",
     "traceback": [
      "\u001b[1;31m---------------------------------------------------------------------------\u001b[0m",
      "\u001b[1;31mNameError\u001b[0m                                 Traceback (most recent call last)",
      "Cell \u001b[1;32mIn[34], line 1\u001b[0m\n\u001b[1;32m----> 1\u001b[0m \u001b[38;5;28mprint\u001b[39m(\u001b[38;5;124mf\u001b[39m\u001b[38;5;124m'\u001b[39m\u001b[38;5;124mO orçamento para o projeto \u001b[39m\u001b[38;5;132;01m{\u001b[39;00mprojeto\u001b[38;5;132;01m}\u001b[39;00m\u001b[38;5;124m é: \u001b[39m\u001b[38;5;132;01m{\u001b[39;00m\u001b[43mvalor_total\u001b[49m\u001b[38;5;132;01m}\u001b[39;00m\u001b[38;5;124m'\u001b[39m)\n",
      "\u001b[1;31mNameError\u001b[0m: name 'valor_total' is not defined"
     ]
    }
   ],
   "source": [
    "print(f'O orçamento para o projeto {projeto} é: {valor_total}')"
   ]
  },
  {
   "cell_type": "markdown",
   "id": "e7a46a4b-a6c8-4c97-9004-90407ef468ee",
   "metadata": {},
   "source": [
    "## Gerando PDF"
   ]
  },
  {
   "cell_type": "code",
   "execution_count": null,
   "id": "87861ed9-f4de-4ed3-99fd-a87bc2704f8b",
   "metadata": {},
   "outputs": [],
   "source": []
  },
  {
   "cell_type": "code",
   "execution_count": null,
   "id": "536e4241-014f-43ab-befd-3049a024fc68",
   "metadata": {},
   "outputs": [],
   "source": []
  },
  {
   "cell_type": "code",
   "execution_count": null,
   "id": "c6156158-0b9f-4a33-a7c4-d88f47c31199",
   "metadata": {},
   "outputs": [],
   "source": []
  },
  {
   "cell_type": "code",
   "execution_count": null,
   "id": "a01575cb-283f-4e45-8b13-1dd48e2b18dd",
   "metadata": {},
   "outputs": [],
   "source": []
  },
  {
   "cell_type": "code",
   "execution_count": null,
   "id": "95a1b078-9cc0-4ba2-b1ae-0ebb2e402515",
   "metadata": {},
   "outputs": [],
   "source": []
  }
 ],
 "metadata": {
  "kernelspec": {
   "display_name": "Python 3 (ipykernel)",
   "language": "python",
   "name": "python3"
  },
  "language_info": {
   "codemirror_mode": {
    "name": "ipython",
    "version": 3
   },
   "file_extension": ".py",
   "mimetype": "text/x-python",
   "name": "python",
   "nbconvert_exporter": "python",
   "pygments_lexer": "ipython3",
   "version": "3.12.2"
  }
 },
 "nbformat": 4,
 "nbformat_minor": 5
}
